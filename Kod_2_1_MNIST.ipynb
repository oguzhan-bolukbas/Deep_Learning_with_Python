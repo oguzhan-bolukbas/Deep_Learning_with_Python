{
  "nbformat": 4,
  "nbformat_minor": 0,
  "metadata": {
    "colab": {
      "name": "Kod_2_1_MNIST.ipynb",
      "provenance": [],
      "collapsed_sections": [],
      "authorship_tag": "ABX9TyPO+EQPtLhH3rK4KNs/IOlr",
      "include_colab_link": true
    },
    "kernelspec": {
      "name": "python3",
      "display_name": "Python 3"
    },
    "accelerator": "GPU"
  },
  "cells": [
    {
      "cell_type": "markdown",
      "metadata": {
        "id": "view-in-github",
        "colab_type": "text"
      },
      "source": [
        "<a href=\"https://colab.research.google.com/github/oguzhan-bolukbas/Deep_Learning_with_Python/blob/main/Kod_2_1_MNIST.ipynb\" target=\"_parent\"><img src=\"https://colab.research.google.com/assets/colab-badge.svg\" alt=\"Open In Colab\"/></a>"
      ]
    },
    {
      "cell_type": "markdown",
      "metadata": {
        "id": "JGwwmbk4IEF_"
      },
      "source": [
        "## Keras veriseti kümesinden MNIST veriseti içe aktarılır\n"
      ]
    },
    {
      "cell_type": "code",
      "metadata": {
        "id": "n4jN9FwzEdBN"
      },
      "source": [
        "from keras.datasets import  mnist"
      ],
      "execution_count": 48,
      "outputs": []
    },
    {
      "cell_type": "code",
      "metadata": {
        "id": "IAI0LMnYEenJ"
      },
      "source": [
        "# Veri setini eğitim ve sınama olmak üzere iki öbeğe ayırır\n",
        "(train_images, train_labels), (test_images, test_labels) = mnist.load_data()"
      ],
      "execution_count": 49,
      "outputs": []
    },
    {
      "cell_type": "markdown",
      "metadata": {
        "id": "fSN_0v-XBocv"
      },
      "source": [
        "## Eğitim veriseti incelenir"
      ]
    },
    {
      "cell_type": "code",
      "metadata": {
        "id": "S7vyVf7FULR1",
        "colab": {
          "base_uri": "https://localhost:8080/"
        },
        "outputId": "ac5ca0d9-55d5-4baf-c961-b87257442f7b"
      },
      "source": [
        "train_images.shape"
      ],
      "execution_count": 50,
      "outputs": [
        {
          "output_type": "execute_result",
          "data": {
            "text/plain": [
              "(60000, 28, 28)"
            ]
          },
          "metadata": {
            "tags": []
          },
          "execution_count": 50
        }
      ]
    },
    {
      "cell_type": "code",
      "metadata": {
        "colab": {
          "base_uri": "https://localhost:8080/"
        },
        "id": "dyBgDXQbA1hI",
        "outputId": "d1cf4d1c-ac6b-443e-9dcb-2d91efae4f0c"
      },
      "source": [
        "len(train_labels)"
      ],
      "execution_count": 51,
      "outputs": [
        {
          "output_type": "execute_result",
          "data": {
            "text/plain": [
              "60000"
            ]
          },
          "metadata": {
            "tags": []
          },
          "execution_count": 51
        }
      ]
    },
    {
      "cell_type": "code",
      "metadata": {
        "colab": {
          "base_uri": "https://localhost:8080/"
        },
        "id": "xp5M8yOYA_1T",
        "outputId": "83eeb4f3-18e0-463b-fdcc-4af23def62e8"
      },
      "source": [
        "train_labels"
      ],
      "execution_count": 52,
      "outputs": [
        {
          "output_type": "execute_result",
          "data": {
            "text/plain": [
              "array([5, 0, 4, ..., 5, 6, 8], dtype=uint8)"
            ]
          },
          "metadata": {
            "tags": []
          },
          "execution_count": 52
        }
      ]
    },
    {
      "cell_type": "markdown",
      "metadata": {
        "id": "l6BxTCt1Bw1U"
      },
      "source": [
        "## Sınama veriseti incelenir"
      ]
    },
    {
      "cell_type": "code",
      "metadata": {
        "colab": {
          "base_uri": "https://localhost:8080/"
        },
        "id": "HxkTPVZKBD1F",
        "outputId": "19112f1d-3271-4a46-a261-066d8eece867"
      },
      "source": [
        "test_images.shape"
      ],
      "execution_count": 53,
      "outputs": [
        {
          "output_type": "execute_result",
          "data": {
            "text/plain": [
              "(10000, 28, 28)"
            ]
          },
          "metadata": {
            "tags": []
          },
          "execution_count": 53
        }
      ]
    },
    {
      "cell_type": "code",
      "metadata": {
        "colab": {
          "base_uri": "https://localhost:8080/"
        },
        "id": "8t6WWPsgCA8A",
        "outputId": "82d87a49-4eab-47fd-d2df-9384fdb38bd2"
      },
      "source": [
        "len(test_labels)"
      ],
      "execution_count": 54,
      "outputs": [
        {
          "output_type": "execute_result",
          "data": {
            "text/plain": [
              "10000"
            ]
          },
          "metadata": {
            "tags": []
          },
          "execution_count": 54
        }
      ]
    },
    {
      "cell_type": "code",
      "metadata": {
        "colab": {
          "base_uri": "https://localhost:8080/"
        },
        "id": "Z1YQ-cY_CEGZ",
        "outputId": "0e522d32-2450-46fc-e870-1556562d8355"
      },
      "source": [
        "test_labels"
      ],
      "execution_count": 55,
      "outputs": [
        {
          "output_type": "execute_result",
          "data": {
            "text/plain": [
              "array([7, 2, 1, ..., 4, 5, 6], dtype=uint8)"
            ]
          },
          "metadata": {
            "tags": []
          },
          "execution_count": 55
        }
      ]
    },
    {
      "cell_type": "markdown",
      "metadata": {
        "id": "a7HhN_HMCd2V"
      },
      "source": [
        "## Sinir ağı oluşturulur"
      ]
    },
    {
      "cell_type": "code",
      "metadata": {
        "id": "IM8hnTJ4CGm9"
      },
      "source": [
        "from keras import models\n",
        "from keras import layers\n",
        "\n",
        "network = models.Sequential()\n",
        "network.add(layers.Dense(512, activation='relu', input_shape=(28*28,)))\n",
        "network.add(layers.Dense(10, activation='softmax'))"
      ],
      "execution_count": 56,
      "outputs": []
    },
    {
      "cell_type": "markdown",
      "metadata": {
        "id": "KE2lv5tAFBlq"
      },
      "source": [
        "## Eniyileme, kayıp fonksiyonu ve metrik eklenir"
      ]
    },
    {
      "cell_type": "code",
      "metadata": {
        "id": "M2qj331eFAcu"
      },
      "source": [
        "network.compile(optimizer='rmsprop',  # Ağın veri ile kayba bakarak kendini güncellemesi için\n",
        "                loss='categorical_crossentropy',  # Ağın kendi performansını gözlemlemesi için\n",
        "                metrics=['accuracy'])  # Sinir ağı doğruluğa odaklanacak"
      ],
      "execution_count": 57,
      "outputs": []
    },
    {
      "cell_type": "markdown",
      "metadata": {
        "id": "4kWfWW_2GicZ"
      },
      "source": [
        "## Veriseti modelin kullanabileceği şekle dönüştürülür"
      ]
    },
    {
      "cell_type": "code",
      "metadata": {
        "id": "bbpWMHC1DLBm"
      },
      "source": [
        "train_images = train_images.reshape((60000, 28*28))  # Tek boyutlu diziye dönüştürür\n",
        "train_images = train_images.astype('float32') / 255  # Verileri 0 ile 1 arasına orantılar\n",
        "\n",
        "test_images = test_images.reshape((10000, 28*28))\n",
        "test_images = test_images.astype('float32') / 255"
      ],
      "execution_count": 58,
      "outputs": []
    },
    {
      "cell_type": "markdown",
      "metadata": {
        "id": "WjR4a382Ib_o"
      },
      "source": [
        "## Etiketler hazırlanır"
      ]
    },
    {
      "cell_type": "code",
      "metadata": {
        "colab": {
          "base_uri": "https://localhost:8080/"
        },
        "id": "c1QO9oc_IqgP",
        "outputId": "fa94b866-5a7a-4c3f-c6e5-745e6a4970f1"
      },
      "source": [
        "print(train_labels.shape)\n",
        "train_labels"
      ],
      "execution_count": 59,
      "outputs": [
        {
          "output_type": "stream",
          "text": [
            "(60000,)\n"
          ],
          "name": "stdout"
        },
        {
          "output_type": "execute_result",
          "data": {
            "text/plain": [
              "array([5, 0, 4, ..., 5, 6, 8], dtype=uint8)"
            ]
          },
          "metadata": {
            "tags": []
          },
          "execution_count": 59
        }
      ]
    },
    {
      "cell_type": "code",
      "metadata": {
        "id": "yKEFEmTDHXIL"
      },
      "source": [
        "from keras.utils import to_categorical\n",
        "train_labels = to_categorical(train_labels)\n",
        "test_labels = to_categorical(test_labels)"
      ],
      "execution_count": 60,
      "outputs": []
    },
    {
      "cell_type": "code",
      "metadata": {
        "colab": {
          "base_uri": "https://localhost:8080/"
        },
        "id": "JZRA5CDiIq34",
        "outputId": "bb466dc4-dd7e-47e1-8f5b-6eda24042336"
      },
      "source": [
        "print(train_labels.shape)\n",
        "train_labels"
      ],
      "execution_count": 61,
      "outputs": [
        {
          "output_type": "stream",
          "text": [
            "(60000, 10)\n"
          ],
          "name": "stdout"
        },
        {
          "output_type": "execute_result",
          "data": {
            "text/plain": [
              "array([[0., 0., 0., ..., 0., 0., 0.],\n",
              "       [1., 0., 0., ..., 0., 0., 0.],\n",
              "       [0., 0., 0., ..., 0., 0., 0.],\n",
              "       ...,\n",
              "       [0., 0., 0., ..., 0., 0., 0.],\n",
              "       [0., 0., 0., ..., 0., 0., 0.],\n",
              "       [0., 0., 0., ..., 0., 1., 0.]], dtype=float32)"
            ]
          },
          "metadata": {
            "tags": []
          },
          "execution_count": 61
        }
      ]
    },
    {
      "cell_type": "markdown",
      "metadata": {
        "id": "aXtjdKr9JH0D"
      },
      "source": [
        "## Model eğitilir"
      ]
    },
    {
      "cell_type": "code",
      "metadata": {
        "colab": {
          "base_uri": "https://localhost:8080/"
        },
        "id": "64lNwgffJIZP",
        "outputId": "35ab8f4b-9516-45e5-b024-6d9029b9dac2"
      },
      "source": [
        "network.fit(train_images,train_labels, epochs=5, batch_size=128)"
      ],
      "execution_count": 62,
      "outputs": [
        {
          "output_type": "stream",
          "text": [
            "Epoch 1/5\n",
            "469/469 [==============================] - 2s 3ms/step - loss: 0.4302 - accuracy: 0.8728\n",
            "Epoch 2/5\n",
            "469/469 [==============================] - 1s 3ms/step - loss: 0.1155 - accuracy: 0.9656\n",
            "Epoch 3/5\n",
            "469/469 [==============================] - 1s 3ms/step - loss: 0.0721 - accuracy: 0.9784\n",
            "Epoch 4/5\n",
            "469/469 [==============================] - 1s 3ms/step - loss: 0.0497 - accuracy: 0.9845\n",
            "Epoch 5/5\n",
            "469/469 [==============================] - 1s 3ms/step - loss: 0.0359 - accuracy: 0.9899\n"
          ],
          "name": "stdout"
        },
        {
          "output_type": "execute_result",
          "data": {
            "text/plain": [
              "<tensorflow.python.keras.callbacks.History at 0x7f37083881d0>"
            ]
          },
          "metadata": {
            "tags": []
          },
          "execution_count": 62
        }
      ]
    },
    {
      "cell_type": "code",
      "metadata": {
        "colab": {
          "base_uri": "https://localhost:8080/"
        },
        "id": "I2JFQJU4JibA",
        "outputId": "88116669-de81-4c64-c0dc-b6858001a780"
      },
      "source": [
        "network.fit(train_images,train_labels, epochs=5, batch_size=32)  # Farklı batch_size'lar denenerek farklı sonuçlar elde edilebilir"
      ],
      "execution_count": 63,
      "outputs": [
        {
          "output_type": "stream",
          "text": [
            "Epoch 1/5\n",
            "1875/1875 [==============================] - 4s 2ms/step - loss: 0.0435 - accuracy: 0.9867\n",
            "Epoch 2/5\n",
            "1875/1875 [==============================] - 4s 2ms/step - loss: 0.0354 - accuracy: 0.9893\n",
            "Epoch 3/5\n",
            "1875/1875 [==============================] - 4s 2ms/step - loss: 0.0290 - accuracy: 0.9918\n",
            "Epoch 4/5\n",
            "1875/1875 [==============================] - 4s 2ms/step - loss: 0.0243 - accuracy: 0.9928\n",
            "Epoch 5/5\n",
            "1875/1875 [==============================] - 4s 2ms/step - loss: 0.0200 - accuracy: 0.9945\n"
          ],
          "name": "stdout"
        },
        {
          "output_type": "execute_result",
          "data": {
            "text/plain": [
              "<tensorflow.python.keras.callbacks.History at 0x7f37084b32d0>"
            ]
          },
          "metadata": {
            "tags": []
          },
          "execution_count": 63
        }
      ]
    },
    {
      "cell_type": "markdown",
      "metadata": {
        "id": "QtCb1HU3K_Vf"
      },
      "source": [
        "## Test veriseti ile test edilir"
      ]
    },
    {
      "cell_type": "code",
      "metadata": {
        "colab": {
          "base_uri": "https://localhost:8080/"
        },
        "id": "3qlPXBSrKGsD",
        "outputId": "98204a56-6b1c-49b4-c95e-1045c18ace13"
      },
      "source": [
        "test_loss, test_acc = network.evaluate(test_images, test_labels)\n",
        "print(\"Loss: \", test_loss)\n",
        "print(\"Accuracy: \", test_acc)"
      ],
      "execution_count": 64,
      "outputs": [
        {
          "output_type": "stream",
          "text": [
            "313/313 [==============================] - 1s 2ms/step - loss: 0.0893 - accuracy: 0.9828\n",
            "Loss:  0.0893041342496872\n",
            "Accuracy:  0.9828000068664551\n"
          ],
          "name": "stdout"
        }
      ]
    },
    {
      "cell_type": "code",
      "metadata": {
        "id": "WicVvF6XLVK4"
      },
      "source": [
        ""
      ],
      "execution_count": 64,
      "outputs": []
    }
  ]
}